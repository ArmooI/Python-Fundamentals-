{
 "cells": [
  {
   "cell_type": "markdown",
   "id": "5a2d11e5-30d5-403d-97ed-f7641d778a97",
   "metadata": {},
   "source": [
    "## Expected Learning Progress:\n",
    "---\n",
    "---\n",
    "\n",
    "### 1.  Functions\n",
    "\n",
    "### 2.  Modules and Packages\n",
    "\n",
    "### 3.  Libraries\n",
    "\n",
    "### 4. Exception Handling"
   ]
  },
  {
   "cell_type": "code",
   "execution_count": null,
   "id": "b5ee24d6-b1eb-4386-9775-42ae25d80165",
   "metadata": {},
   "outputs": [],
   "source": []
  },
  {
   "cell_type": "markdown",
   "id": "41ca4eca-1db2-4351-be19-90b96eb6fd56",
   "metadata": {},
   "source": [
    "# Function\n",
    " \n",
    "A function in programming terms can be defined as “a block of the reusable, managed code block that is used to perform any certain single operation.”\n",
    " \n",
    "Functions provide better functioning for your application and a high degree of code reusability."
   ]
  },
  {
   "cell_type": "markdown",
   "id": "6fc68ef9-5fda-44b9-96a8-3f4fd66aa930",
   "metadata": {},
   "source": [
    "# Types of function\n",
    "\n",
    "\n",
    "Standard library functions - These are built-in functions in Python that are available to use.     \n",
    "User-defined functions - We can create our own functions based on our requirements."
   ]
  },
  {
   "cell_type": "code",
   "execution_count": null,
   "id": "c7d26c31-824e-42cf-9570-8d4fae23e361",
   "metadata": {},
   "outputs": [],
   "source": [
    "# Declaring a function\n",
    "\n",
    "\n",
    "# Function Syntax:\n",
    "\n",
    "# def my_function(parameters):\n",
    "#     '''\n",
    "#     Docstring.\n",
    "#     Summarize the function's behavior and explain its arguments and return values.\n",
    "#     '''\n",
    "#     code block\n",
    "\n",
    "#     return value"
   ]
  },
  {
   "cell_type": "markdown",
   "id": "a06b18cf-f2e8-4404-a043-2d51ed69fc43",
   "metadata": {},
   "source": [
    "# Return Statement\n",
    "\n",
    "Return statements give you a result that you can use for something else. It doesn’t have to be something that prints when the function is run.     \n",
    "\n",
    "Print statements print something to the console and nothing more. "
   ]
  },
  {
   "cell_type": "code",
   "execution_count": null,
   "id": "07cc64d2-c654-4394-9ad9-0c49d5376590",
   "metadata": {},
   "outputs": [],
   "source": [
    "# Example \n",
    "\n",
    "\n",
    "#defining a function\n"
   ]
  },
  {
   "cell_type": "code",
   "execution_count": null,
   "id": "1c155e9f-b3d2-4710-ac14-be5990122cc4",
   "metadata": {},
   "outputs": [],
   "source": []
  },
  {
   "cell_type": "code",
   "execution_count": null,
   "id": "bf1d7d98-29c0-4d9b-91e9-b8cc3f0ca8e4",
   "metadata": {},
   "outputs": [],
   "source": [
    "# Calling a Function"
   ]
  },
  {
   "cell_type": "code",
   "execution_count": null,
   "id": "583f5788-d737-42f8-9c17-ba080c6e5589",
   "metadata": {},
   "outputs": [],
   "source": []
  },
  {
   "cell_type": "code",
   "execution_count": null,
   "id": "b18a9681-fe53-459e-9c76-92c54729ebc6",
   "metadata": {},
   "outputs": [],
   "source": [
    "# Calling a function \n",
    "\n",
    "#method 1 - Positional  argument\n",
    "# Providing arguments to function in the order of parameters of the function\n",
    "\n",
    "\n",
    "\n",
    "#method 2 - use keyword argument\n",
    "# Specifying which argument is for which parameter\n"
   ]
  },
  {
   "cell_type": "code",
   "execution_count": null,
   "id": "10d444ff-9148-42b7-a310-aa56afdbfc3c",
   "metadata": {},
   "outputs": [],
   "source": [
    "# Example -- Positional "
   ]
  },
  {
   "cell_type": "code",
   "execution_count": null,
   "id": "30ea4500-9482-4b9f-9634-7af0c6e6072a",
   "metadata": {},
   "outputs": [],
   "source": [
    "# Example -- Keyword"
   ]
  },
  {
   "cell_type": "code",
   "execution_count": null,
   "id": "71c29931-1f18-4fde-a964-901348871e00",
   "metadata": {},
   "outputs": [],
   "source": [
    "# function with two arguments\n",
    "\n",
    "\n",
    "\n",
    "\n",
    "\n",
    "# function with no argument\n"
   ]
  },
  {
   "cell_type": "code",
   "execution_count": null,
   "id": "4f3f327e-679a-49bc-ba63-77c091d48c9a",
   "metadata": {},
   "outputs": [],
   "source": [
    "#If the number of arguments is unknown, add a * before the parameter name:"
   ]
  },
  {
   "cell_type": "code",
   "execution_count": null,
   "id": "2d5030e6-4291-4728-b0e8-e8c6de606ea7",
   "metadata": {},
   "outputs": [],
   "source": []
  },
  {
   "cell_type": "markdown",
   "id": "ee7a13a6-c9a2-4ff0-82ce-f3c6be3bcf6c",
   "metadata": {},
   "source": [
    "# Worked Example 1\n",
    "   \n",
    "Write a program that determines whether a given year is a leap year.         \n",
    "A normal year has 365 days, leap years have 366 with an extra day in February."
   ]
  },
  {
   "cell_type": "markdown",
   "id": "9aae08ed-27c4-4ad5-a5c5-d8b5f7ecf669",
   "metadata": {},
   "source": [
    "# Worked Example 2\n",
    "\n",
    "At a company, new employees can choose their usernames. However, the usernames need to fit a given set of guidelines.\n",
    "A valid username requires at least eight characters.\n",
    "A valid username should not exceed fifteen characters.\n",
    "As the data professional at this business, you're tasked with writing a program that will tell the user whether their choices are valid.\n"
   ]
  },
  {
   "cell_type": "code",
   "execution_count": null,
   "id": "d0a84413-066a-4e66-93ae-ad651afae836",
   "metadata": {},
   "outputs": [],
   "source": []
  },
  {
   "cell_type": "code",
   "execution_count": null,
   "id": "fc79d26d-7c95-4589-8075-e7951000fd6f",
   "metadata": {},
   "outputs": [],
   "source": []
  },
  {
   "cell_type": "markdown",
   "id": "d3157180-4f49-47b6-b29e-5cea7d1f5634",
   "metadata": {},
   "source": [
    "<span style=\"display: block; text-align: center; color: #232F3E; font-family: Poppins, sans-serif; font-size: 50px; font-weight: bold;\">**Modules**</span>"
   ]
  },
  {
   "cell_type": "markdown",
   "id": "91d05a1a-51ef-469c-98fe-9d884d144fea",
   "metadata": {},
   "source": [
    "* ### A single python file containing code\n",
    "* ### It contains variable, functions, classes.\n",
    "* ### Their context can be resuse in other code without having to rewrite them.\n",
    "* ### The help in organising our code and making it more manageable.\n",
    "* ### To use a code in a `module`, we use `import` sometimes in combination with `from`"
   ]
  },
  {
   "cell_type": "code",
   "execution_count": null,
   "id": "94311cc7-65dd-4bf8-91c6-d68310a96fe9",
   "metadata": {},
   "outputs": [],
   "source": []
  },
  {
   "cell_type": "markdown",
   "id": "432d4e1e-9986-4665-b088-4fa0a5287331",
   "metadata": {},
   "source": [
    "<span style=\"display: block; text-align: center; color: #232F3E; font-family: Poppins, sans-serif; font-size: 50px; font-weight: bold;\">**Built-in Modules**</span>"
   ]
  },
  {
   "cell_type": "markdown",
   "id": "b7461bc7-1f85-44c4-aa1a-d6191e16a143",
   "metadata": {},
   "source": [
    "* ### Python files that come with installation of python.\n",
    "* ### using `help('modules')` can list all modules that came with python installation\n",
    "* ### Examples `random`, `os`, `math`, `crytography`, `datetime`\n"
   ]
  },
  {
   "cell_type": "code",
   "execution_count": null,
   "id": "85535af0-e0d0-4eec-9e26-1633dcaa7819",
   "metadata": {},
   "outputs": [],
   "source": [
    "# Use help to get list of modules available\n",
    "\n",
    "help('module')\n",
    "# Import some modules"
   ]
  },
  {
   "cell_type": "code",
   "execution_count": null,
   "id": "84544680-1e84-4eee-b199-09f59ac13827",
   "metadata": {},
   "outputs": [],
   "source": []
  },
  {
   "cell_type": "markdown",
   "id": "e5c53734-b666-4dec-b4ea-e732a287af84",
   "metadata": {},
   "source": [
    "<span style=\"display: block; text-align: center; color: #232F3E; font-family: Poppins, sans-serif; font-size: 50px; font-weight: bold;\">**Creating Modules**</span>"
   ]
  },
  {
   "cell_type": "markdown",
   "id": "e4f44014-ad61-4da5-939d-221de1795d47",
   "metadata": {},
   "source": [
    "* ### Open a .py file\n",
    "* ### Create function, variables, and classes\n",
    "* ### Save the file"
   ]
  },
  {
   "cell_type": "code",
   "execution_count": null,
   "id": "f10492db-575c-46d7-a648-a3ed66399dcb",
   "metadata": {},
   "outputs": [],
   "source": []
  }
 ],
 "metadata": {
  "kernelspec": {
   "display_name": "Python 3 (ipykernel)",
   "language": "python",
   "name": "python3"
  },
  "language_info": {
   "codemirror_mode": {
    "name": "ipython",
    "version": 3
   },
   "file_extension": ".py",
   "mimetype": "text/x-python",
   "name": "python",
   "nbconvert_exporter": "python",
   "pygments_lexer": "ipython3",
   "version": "3.11.5"
  }
 },
 "nbformat": 4,
 "nbformat_minor": 5
}
