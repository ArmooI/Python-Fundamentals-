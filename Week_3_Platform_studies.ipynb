{
 "cells": [
  {
   "cell_type": "markdown",
   "metadata": {},
   "source": [
    "DICTIONARIES\n",
    "- Dictionary assignment\n",
    "- Insert values into a dictionary \n",
    "- Retrieving values from a dictionary \n",
    "- Using the IN operator\n",
    "- Deleting Keys"
   ]
  },
  {
   "cell_type": "markdown",
   "metadata": {},
   "source": [
    "Dictionary\n",
    "\n",
    "This is similar to an English dictionary which has words and meaning. Python dictionary has KEYS and VALUES. The purpose of the dictionary is to provide for FASTER LOOKUP of the KEYS. \n",
    "\n",
    "With this, you can quickly look for a key and pull out all the values associated with it."
   ]
  },
  {
   "cell_type": "markdown",
   "metadata": {},
   "source": [
    "Dictionary Assignment \n",
    "\n",
    "Dictionaries can be created using a literal syntax or a built-in dict-class\n",
    "\n",
    "Using a literal Syntax. This means that we manually create the dictionary and format it such that python understands the dictionary \n",
    "\n",
    "eg. \n",
    "\n",
    "    info = {'first': 'Kaku', 'last': 'Cashious'}\n",
    "\n",
    "in the above, the first and last are both keys, and Kaku and Cashious are values. the keys and values are separated by :. ',' is used to separate different items in the dictionary\n",
    "\n",
    "Using the built-in dict-class\n",
    "\n",
    "eg. \n",
    "\n",
    "    info = dict([('first', 'Kaku'), ('last', 'Cashious')])\n",
    "\n",
    "dict()\n",
    "\n",
    "\n",
    "\n"
   ]
  },
  {
   "cell_type": "code",
   "execution_count": 2,
   "metadata": {},
   "outputs": [
    {
     "name": "stdout",
     "output_type": "stream",
     "text": [
      "{'first': 'Kaku', 'last': 'Cashious'}\n"
     ]
    }
   ],
   "source": [
    "# using the literal syntax dictionary\n",
    "info = {'first': 'Kaku', 'last': 'Cashious'}\n",
    "print(info)"
   ]
  },
  {
   "cell_type": "code",
   "execution_count": 4,
   "metadata": {},
   "outputs": [
    {
     "name": "stdout",
     "output_type": "stream",
     "text": [
      "{'first': 'Kaku', 'last': 'Cashious'}\n"
     ]
    }
   ],
   "source": [
    "# using the built-in dict-class\n",
    "\n",
    "info = dict([('first', 'Kaku'), ('last', 'Cashious')])\n",
    "print(info)"
   ]
  },
  {
   "cell_type": "markdown",
   "metadata": {},
   "source": [
    "create a dictionary to store a person's details including first and last name, age and city \n"
   ]
  },
  {
   "cell_type": "code",
   "execution_count": 6,
   "metadata": {},
   "outputs": [
    {
     "name": "stdout",
     "output_type": "stream",
     "text": [
      "{'first': 'Kaku', 'last': 'Cashious', 'age': 31, 'city': 'Cottbus'}\n"
     ]
    }
   ],
   "source": [
    "# this dictionary uses the literal syntax\n",
    "\n",
    "person = {'first': 'Kaku', 'last': 'Cashious', 'age': 31, 'city': 'Cottbus'}\n",
    "print(person)"
   ]
  },
  {
   "cell_type": "code",
   "execution_count": 8,
   "metadata": {},
   "outputs": [
    {
     "name": "stdout",
     "output_type": "stream",
     "text": [
      "{'first': 'Kaku', 'last': 'Cashious', 'age': 31, 'city': 'Cottbus'}\n"
     ]
    }
   ],
   "source": [
    "# using the built-in dict-class\n",
    "\n",
    "person = dict([('first', 'Kaku'), ('last', 'Cashious'), ('age', 31), ('city', 'Cottbus')])\n",
    "print(person)"
   ]
  },
  {
   "cell_type": "markdown",
   "metadata": {},
   "source": [
    "Create a dictionar for the book with title, author, year, and\n"
   ]
  },
  {
   "cell_type": "code",
   "execution_count": 9,
   "metadata": {},
   "outputs": [
    {
     "name": "stdout",
     "output_type": "stream",
     "text": [
      "{'title': \"The Hitchhiter's Guide to the Galaxy\", 'author': 'Douglas Adams', 'year': 1979, 'is_function': True}\n"
     ]
    }
   ],
   "source": [
    "book = {\n",
    "    \"title\": \"The Hitchhiter's Guide to the Galaxy\",\n",
    "    \"author\": \"Douglas Adams\",\n",
    "    \"year\": 1979,\n",
    "    \"is_function\": True \n",
    "}\n",
    "\n",
    "print(book)"
   ]
  },
  {
   "cell_type": "markdown",
   "metadata": {},
   "source": [
    "Inserting Values into dictionaries\n",
    "\n",
    "Values can be inserted into a dictionary using the \"index operators\". An index operator ([]) associates the key with the values when used in combination with the assignment operator (=)\n",
    "\n",
    "\n",
    "the dictionary's keys must be used as identifier when inserting values into the dictionary "
   ]
  },
  {
   "cell_type": "code",
   "execution_count": 13,
   "metadata": {},
   "outputs": [
    {
     "name": "stdout",
     "output_type": "stream",
     "text": [
      "{'first': 'Kaku', 'last': 'Cashious', 'age': 30, 'hobby': 'learning something new'}\n",
      "{'first': 'Kaku', 'last': 'Cashious', 'age': 30, 'hobby': 'learning something new'}\n"
     ]
    }
   ],
   "source": [
    "# inserting values into the info dictionary\n",
    "\n",
    "print(info)\n",
    "\n",
    "# info['age'] = 30\n",
    "# info['hobby'] = 'learning something new'\n",
    "\n",
    "print(info)"
   ]
  }
 ],
 "metadata": {
  "kernelspec": {
   "display_name": "Python 3",
   "language": "python",
   "name": "python3"
  },
  "language_info": {
   "codemirror_mode": {
    "name": "ipython",
    "version": 3
   },
   "file_extension": ".py",
   "mimetype": "text/x-python",
   "name": "python",
   "nbconvert_exporter": "python",
   "pygments_lexer": "ipython3",
   "version": "3.13.0"
  }
 },
 "nbformat": 4,
 "nbformat_minor": 2
}
