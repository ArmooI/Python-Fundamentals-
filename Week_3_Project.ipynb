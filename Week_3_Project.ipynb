{
 "cells": [
  {
   "cell_type": "markdown",
   "metadata": {},
   "source": [
    "Caesar's Cipher Encryption\n",
    "\n",
    "The IT team needs to comply with the companies' policies on data privacy,  \n",
    "\n",
    "your boss tasks you to write an algorithm to encrypt and decrypt its internal messages using Caesar's Cipher.\n",
    "\n",
    "In cryptography, a Caesar cipher, also known as shift cipher, is one of the simplest and most widely known encryption techniques. \n",
    "\n",
    "It is a type of substitution cipher in which each letter in the plaintext is replaced by a letter of some fixed number of positions down the alphabet. \n",
    "\n",
    "For example, with a left shift of 3, D would be replaced by A, E would become B, and so on.\n",
    "\n",
    " \n",
    "The method is named after Julius Caesar, who used it in his private correspondence.\n",
    "\n",
    "The transformation can be represented by aligning two alphabets; \n",
    "\n",
    "the cipher alphabet is the plain alphabet rotated left or right by some number of positions. \n",
    "\n",
    "For instance, here is a Caesar cipher using a left rotation of three places, equivalent to a right shift of 23 (the shift parameter is used as the key):\n",
    "\n",
    "Plain:  ABCDEFGHIJKLMNOPQRSTUVWXYZ \n",
    "\n",
    "Cipher: XYZABCDEFGHIJKLMNOPQRSTUVW \n",
    "\n",
    "When encrypting, a person looks up each letter of the message in the “plain” line and writes down the corresponding letter in the “cipher” line. \n",
    "\n",
    "Plaintext:  THE QUICK BROWN FOX JUMPS OVER THE LAZY DOGCipher\n",
    "\n",
    "text: QEB NRFZH YOLTK CLU GRJMP LSBO QEB IXWV ALD\n",
    "\n",
    "\n",
    "\n",
    "Deciphering is done in reverse, with a right shift of 3."
   ]
  },
  {
   "cell_type": "code",
   "execution_count": 28,
   "metadata": {},
   "outputs": [
    {
     "name": "stdout",
     "output_type": "stream",
     "text": [
      "Ciphertext is: VJG SWKEM DTQYP HQZ LWORU QXGT VJG NCBA FQI\n",
      "Decrypted Text is: THE QUICK BROWN FOX JUMPS OVER THE LAZY DOG\n"
     ]
    }
   ],
   "source": [
    "def check_cipher(text, shift, mode='encrypt'):\n",
    "    result = \"\"\n",
    "    for char in text:\n",
    "        if char.isalpha():\n",
    "            shift_value = shift % 26\n",
    "            if mode == 'encrypt':\n",
    "                result += chr((ord(char) - 65 + shift_value) % 26 + 65)\n",
    "            elif mode == 'decrypt':\n",
    "                result += chr((ord(char) - 65 - shift_value) % 26 + 65)\n",
    "        else:\n",
    "            result += char\n",
    "    return result\n",
    "\n",
    "plaintext = input(\"Please, enter your text here!\") # This allows for the input of the plaintext which is \"THE QUICK BROWN FOX JUMPS OVER THE LAZY DOG\" in this case\n",
    "shift = int(input(\"How many shifts do you want to move?\")) # this is to allow for the input of the shift value\n",
    "\n",
    "# This is to encrypte the plaintext \n",
    "encrypted_text = check_cipher(plaintext, shift, mode='encrypt')\n",
    "print(f\"Ciphertext is: {encrypted_text}\")\n",
    "\n",
    "# This is to decrypt the the plaintext\n",
    "decrypted_text = check_cipher(encrypted_text, shift, mode='decrypt')\n",
    "print(f\"Decrypted Text is: {decrypted_text}\")"
   ]
  }
 ],
 "metadata": {
  "kernelspec": {
   "display_name": "Python 3",
   "language": "python",
   "name": "python3"
  },
  "language_info": {
   "codemirror_mode": {
    "name": "ipython",
    "version": 3
   },
   "file_extension": ".py",
   "mimetype": "text/x-python",
   "name": "python",
   "nbconvert_exporter": "python",
   "pygments_lexer": "ipython3",
   "version": "3.13.0"
  }
 },
 "nbformat": 4,
 "nbformat_minor": 2
}
