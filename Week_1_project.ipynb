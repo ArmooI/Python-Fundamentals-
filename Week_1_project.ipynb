{
 "cells": [
  {
   "cell_type": "markdown",
   "metadata": {},
   "source": [
    "As the finance officer of Asanka Hotel, the food and beverages director has requested a program that calculates the total amount of a meal purchased with a fixed tip. \n",
    "\n",
    "Below are the requirements for the program:\n",
    "\n",
    "\n",
    "\n",
    "The program should ask the user to enter the charge for the food.\n",
    "\n",
    "It should then calculate the amounts of an 18 percent tip and 7 percent sales tax on the charge of the food and display each of these amounts.\n",
    "\n",
    "Finally, it should add everything together and display the charge of the food plus tip and sales tax.\n",
    "\n",
    "Based on this data, your program should generate script that meets the requirements."
   ]
  },
  {
   "cell_type": "code",
   "execution_count": 1,
   "metadata": {},
   "outputs": [],
   "source": [
    "food_cost = float(input('What is the cost of the food?'))\n",
    "tip = food_cost * (18/100)\n",
    "sales_tax = food_cost * (7/100)\n",
    "total_charge = food_cost + tip + sales_tax\n"
   ]
  },
  {
   "cell_type": "code",
   "execution_count": 2,
   "metadata": {},
   "outputs": [
    {
     "name": "stdout",
     "output_type": "stream",
     "text": [
      "Tip $36.00\n",
      "Sales Tax $14.00\n",
      "Total Charge $250.00\n"
     ]
    }
   ],
   "source": [
    "print(f\"Tip ${tip:.2f}\")\n",
    "print(f\"Sales Tax ${sales_tax:.2f}\")\n",
    "print(f\"Total Charge ${total_charge:.2f}\")"
   ]
  }
 ],
 "metadata": {
  "kernelspec": {
   "display_name": "Python 3",
   "language": "python",
   "name": "python3"
  },
  "language_info": {
   "codemirror_mode": {
    "name": "ipython",
    "version": 3
   },
   "file_extension": ".py",
   "mimetype": "text/x-python",
   "name": "python",
   "nbconvert_exporter": "python",
   "pygments_lexer": "ipython3",
   "version": "3.13.0"
  }
 },
 "nbformat": 4,
 "nbformat_minor": 2
}
