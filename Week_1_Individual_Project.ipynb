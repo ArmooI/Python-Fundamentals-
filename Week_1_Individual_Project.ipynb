{
 "cells": [
  {
   "cell_type": "markdown",
   "metadata": {},
   "source": [
    "Mortgage Calculator\n",
    "\n",
    "Kelly is an upcoming entrepreneur who is working on setting up 3 factories in the next month.\n",
    "She discovers that she needs GHS 1,000,000 but unfortunately does not have that amount to begin the factories.\n",
    "This happens to be a big blow in the business plans made by Kelly. Kelly being an industrious individual decides to still move on with the project.\n",
    "She contacts her banker, and an agreement is made to offer her a loan to proceed with her project.\n",
    "Kelly asks her banker the amount she has to pay each month to be able to settle the loan.\n",
    "Now the banker has to develop a program to make the calculations.\n",
    "\n"
   ]
  },
  {
   "cell_type": "code",
   "execution_count": 18,
   "metadata": {},
   "outputs": [],
   "source": [
    "principal = float(input('What is the mortgage principal?'))\n",
    "annual_interest_rate = float(input('What is the annual annual interest?'))\n",
    "years_to_repay_mortgage = float(input('What is the number of years to repay the mortgage?'))\n",
    "annual_interest = (annual_interest_rate / 100) * principal\n",
    "monthly_interest = ((annual_interest_rate / 100) / 12) * principal\n",
    "total_payment_annual = principal + (annual_interest * years_to_repay_mortgage)\n",
    "total_payment_monthly = principal + ((monthly_interest) * (years_to_repay_mortgage * 12))\n",
    "\n"
   ]
  },
  {
   "cell_type": "code",
   "execution_count": 22,
   "metadata": {},
   "outputs": [
    {
     "name": "stdout",
     "output_type": "stream",
     "text": [
      "Annual Interest Amount $7500.00\n",
      "Monthly Interest Amount $625.00\n",
      "Total Repayment Amount $325000.00\n"
     ]
    }
   ],
   "source": [
    "print(f\"Annual Interest Amount ${annual_interest:.2f}\")\n",
    "print(f\"Monthly Interest Amount ${monthly_interest:.2f}\")\n",
    "print(f\"Total Repayment Amount ${total_payment_annual:.2f}\")\n",
    "# print(f\"Total Repayment Amuount ${total_payment_monthly:.2f}\")"
   ]
  }
 ],
 "metadata": {
  "kernelspec": {
   "display_name": "Python 3",
   "language": "python",
   "name": "python3"
  },
  "language_info": {
   "codemirror_mode": {
    "name": "ipython",
    "version": 3
   },
   "file_extension": ".py",
   "mimetype": "text/x-python",
   "name": "python",
   "nbconvert_exporter": "python",
   "pygments_lexer": "ipython3",
   "version": "3.13.0"
  }
 },
 "nbformat": 4,
 "nbformat_minor": 2
}
