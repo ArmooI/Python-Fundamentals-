{
 "cells": [
  {
   "cell_type": "code",
   "execution_count": 1,
   "metadata": {},
   "outputs": [
    {
     "name": "stdout",
     "output_type": "stream",
     "text": [
      "Collecting pymssql\n",
      "  Downloading pymssql-2.3.2-cp313-cp313-win_amd64.whl.metadata (4.9 kB)\n",
      "Downloading pymssql-2.3.2-cp313-cp313-win_amd64.whl (2.0 MB)\n",
      "   ---------------------------------------- 0.0/2.0 MB ? eta -:--:--\n",
      "   ---------------------------------------- 0.0/2.0 MB ? eta -:--:--\n",
      "   ----- ---------------------------------- 0.3/2.0 MB ? eta -:--:--\n",
      "   ---------- ----------------------------- 0.5/2.0 MB 2.3 MB/s eta 0:00:01\n",
      "   --------------------- ------------------ 1.0/2.0 MB 1.7 MB/s eta 0:00:01\n",
      "   ------------------------------------ --- 1.8/2.0 MB 2.5 MB/s eta 0:00:01\n",
      "   ---------------------------------------- 2.0/2.0 MB 2.4 MB/s eta 0:00:00\n",
      "Installing collected packages: pymssql\n",
      "Successfully installed pymssql-2.3.2\n",
      "Note: you may need to restart the kernel to use updated packages.\n"
     ]
    },
    {
     "name": "stderr",
     "output_type": "stream",
     "text": [
      "WARNING: Ignoring invalid distribution ~umpy (c:\\Users\\kakua\\AppData\\Local\\Programs\\Python\\Python313\\Lib\\site-packages)\n",
      "WARNING: Ignoring invalid distribution ~umpy (c:\\Users\\kakua\\AppData\\Local\\Programs\\Python\\Python313\\Lib\\site-packages)\n",
      "WARNING: Ignoring invalid distribution ~umpy (c:\\Users\\kakua\\AppData\\Local\\Programs\\Python\\Python313\\Lib\\site-packages)\n",
      "WARNING: Ignoring invalid distribution ~umpy (c:\\Users\\kakua\\AppData\\Local\\Programs\\Python\\Python313\\Lib\\site-packages)\n",
      "\n",
      "[notice] A new release of pip is available: 24.3.1 -> 25.0.1\n",
      "[notice] To update, run: python.exe -m pip install --upgrade pip\n"
     ]
    }
   ],
   "source": [
    "pip install pymssql"
   ]
  },
  {
   "cell_type": "code",
   "execution_count": 3,
   "metadata": {},
   "outputs": [],
   "source": [
    "import pymssql\n",
    "import pandas as pd"
   ]
  },
  {
   "cell_type": "code",
   "execution_count": 2,
   "metadata": {},
   "outputs": [
    {
     "name": "stdout",
     "output_type": "stream",
     "text": [
      "Package            Version\n",
      "------------------ -----------\n",
      "asttokens          3.0.0\n",
      "certifi            2025.1.31\n",
      "charset-normalizer 3.4.1\n",
      "colorama           0.4.6\n",
      "comm               0.2.2\n",
      "contourpy          1.3.1\n",
      "cycler             0.12.1\n",
      "debugpy            1.8.9\n",
      "decorator          5.1.1\n",
      "executing          2.1.0\n",
      "fonttools          4.56.0\n",
      "idna               3.10\n",
      "ipykernel          6.29.5\n",
      "ipython            8.30.0\n",
      "jedi               0.19.2\n",
      "jupyter_client     8.6.3\n",
      "jupyter_core       5.7.2\n",
      "kiwisolver         1.4.8\n",
      "matplotlib         3.10.0\n",
      "matplotlib-inline  0.1.7\n",
      "mysqlclient        2.2.7\n",
      "nest-asyncio       1.6.0\n",
      "packaging          24.2\n",
      "pandas             2.2.3\n",
      "parso              0.8.4\n",
      "pillow             11.1.0\n",
      "pip                24.3.1\n",
      "platformdirs       4.3.6\n",
      "prompt_toolkit     3.0.48\n",
      "psutil             6.1.0\n",
      "pure_eval          0.2.3\n",
      "Pygments           2.18.0\n",
      "pymssql            2.3.2\n",
      "pyodbc             5.2.0\n",
      "pyparsing          3.2.1\n",
      "python-dateutil    2.9.0.post0\n",
      "pytz               2025.1\n",
      "pywin32            308\n",
      "pyzmq              26.2.0\n",
      "requests           2.32.3\n",
      "six                1.17.0\n",
      "SQLAlchemy         2.0.38\n",
      "stack-data         0.6.3\n",
      "tornado            6.4.2\n",
      "traitlets          5.14.3\n",
      "typing_extensions  4.12.2\n",
      "tzdata             2025.1\n",
      "urllib3            2.3.0\n",
      "wcwidth            0.2.13\n",
      "Note: you may need to restart the kernel to use updated packages.\n"
     ]
    },
    {
     "name": "stderr",
     "output_type": "stream",
     "text": [
      "WARNING: Ignoring invalid distribution ~umpy (c:\\Users\\kakua\\AppData\\Local\\Programs\\Python\\Python313\\Lib\\site-packages)\n"
     ]
    }
   ],
   "source": [
    "pip list"
   ]
  }
 ],
 "metadata": {
  "kernelspec": {
   "display_name": "Python 3",
   "language": "python",
   "name": "python3"
  },
  "language_info": {
   "codemirror_mode": {
    "name": "ipython",
    "version": 3
   },
   "file_extension": ".py",
   "mimetype": "text/x-python",
   "name": "python",
   "nbconvert_exporter": "python",
   "pygments_lexer": "ipython3",
   "version": "3.13.0"
  }
 },
 "nbformat": 4,
 "nbformat_minor": 2
}
